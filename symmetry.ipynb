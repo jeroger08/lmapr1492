{
 "cells": [
  {
   "cell_type": "code",
   "execution_count": 72,
   "id": "f6bc04c8",
   "metadata": {},
   "outputs": [],
   "source": [
    "import numpy as np\n",
    "from mp_api.client import MPRester\n",
    "from pymatgen.core.operations import SymmOp\n",
    "from pymatgen.symmetry.analyzer import SpacegroupAnalyzer\n",
    "from pymatgen.electronic_structure.plotter import BSPlotter\n",
    "from pymatgen.phonon.plotter import PhononBSPlotter\n",
    "from pymatgen.io.cif import CifWriter\n",
    "from jupyter_jsmol.pymatgen import quick_view\n",
    "from lmapr1492 import plot_brillouin_zone, get_plot_bs, get_plot_dos, get_plot_bs_and_dos, get_branch_wavevectors\n",
    "from plotly.subplots import make_subplots\n",
    "import plotly.graph_objects as go"
   ]
  },
  {
   "cell_type": "code",
   "execution_count": 73,
   "id": "a347a544",
   "metadata": {},
   "outputs": [],
   "source": [
    "# HfNiSn\n",
    "mp_key = \"fnNhNeZr2KXTJ64m73UhQ93prbDkSyqH\"\n",
    "mp_id = \"mp-924128\""
   ]
  },
  {
   "cell_type": "code",
   "execution_count": 74,
   "id": "b1bfad99",
   "metadata": {},
   "outputs": [
    {
     "data": {
      "application/vnd.jupyter.widget-view+json": {
       "model_id": "77c84934b4384feaaae0ec98eabc9e23",
       "version_major": 2,
       "version_minor": 0
      },
      "text/plain": [
       "Retrieving MaterialsDoc documents:   0%|          | 0/1 [00:00<?, ?it/s]"
      ]
     },
     "metadata": {},
     "output_type": "display_data"
    },
    {
     "data": {
      "application/vnd.jupyter.widget-view+json": {
       "model_id": "c82924ada3c642a385506697fe78c553",
       "version_major": 2,
       "version_minor": 0
      },
      "text/plain": [
       "Retrieving ElectronicStructureDoc documents:   0%|          | 0/1 [00:00<?, ?it/s]"
      ]
     },
     "metadata": {},
     "output_type": "display_data"
    },
    {
     "data": {
      "application/vnd.jupyter.widget-view+json": {
       "model_id": "b83b1b14df9f4ea89a7fa260c7e02863",
       "version_major": 2,
       "version_minor": 0
      },
      "text/plain": [
       "Retrieving ElectronicStructureDoc documents:   0%|          | 0/1 [00:00<?, ?it/s]"
      ]
     },
     "metadata": {},
     "output_type": "display_data"
    },
    {
     "data": {
      "application/vnd.jupyter.widget-view+json": {
       "model_id": "9e045b6142de4b2eb0dbc3704de2bc88",
       "version_major": 2,
       "version_minor": 0
      },
      "text/plain": [
       "Retrieving PhononBSDOSDoc documents:   0%|          | 0/1 [00:00<?, ?it/s]"
      ]
     },
     "metadata": {},
     "output_type": "display_data"
    },
    {
     "data": {
      "application/vnd.jupyter.widget-view+json": {
       "model_id": "5190e6664c2d419b8e8ad349462d5a3b",
       "version_major": 2,
       "version_minor": 0
      },
      "text/plain": [
       "Retrieving PhononBSDOSDoc documents:   0%|          | 0/1 [00:00<?, ?it/s]"
      ]
     },
     "metadata": {},
     "output_type": "display_data"
    }
   ],
   "source": [
    "with MPRester(mp_key) as m:\n",
    "    prim_struc = m.get_structure_by_material_id(mp_id)\n",
    "    el_bs = m.get_bandstructure_by_material_id(mp_id)\n",
    "    el_dos = m.get_dos_by_material_id(mp_id)\n",
    "    ph_bs = m.get_phonon_bandstructure_by_material_id(mp_id)\n",
    "    ph_dos = m.get_phonon_dos_by_material_id(mp_id)\n",
    "conv_struc = SpacegroupAnalyzer(prim_struc).get_conventional_standard_structure()\n",
    "symmops = SpacegroupAnalyzer(conv_struc).get_space_group_operations()"
   ]
  },
  {
   "cell_type": "markdown",
   "id": "44e0ec5c",
   "metadata": {},
   "source": [
    "## Fichier CIF"
   ]
  },
  {
   "cell_type": "code",
   "execution_count": 75,
   "id": "de142bcf",
   "metadata": {},
   "outputs": [
    {
     "data": {
      "application/vnd.jupyter.widget-view+json": {
       "model_id": "4f7655966358406c8ce5ff7371a16891",
       "version_major": 2,
       "version_minor": 0
      },
      "text/plain": [
       "Retrieving MaterialsDoc documents:   0%|          | 0/1 [00:00<?, ?it/s]"
      ]
     },
     "metadata": {},
     "output_type": "display_data"
    },
    {
     "name": "stdout",
     "output_type": "stream",
     "text": [
      "Téléchargement ok\n"
     ]
    }
   ],
   "source": [
    "with MPRester(mp_key) as m:\n",
    "    \n",
    "    cif_data = m.get_structure_by_material_id(mp_id)\n",
    "    print(\"Téléchargement ok\")\n",
    "structure_conv = SpacegroupAnalyzer(cif_data).get_conventional_standard_structure()"
   ]
  },
  {
   "cell_type": "code",
   "execution_count": 76,
   "id": "be4564d9",
   "metadata": {
    "scrolled": true
   },
   "outputs": [
    {
     "data": {
      "application/vnd.jupyter.widget-view+json": {
       "model_id": "031551c69e074e138694f799e48b1347",
       "version_major": 2,
       "version_minor": 0
      },
      "text/plain": [
       "JsmolView(layout=Layout(align_self='stretch', height='400px'))"
      ]
     },
     "metadata": {},
     "output_type": "display_data"
    }
   ],
   "source": [
    "view = quick_view(cif_data, conventional = 'True')\n",
    "display(view)"
   ]
  },
  {
   "cell_type": "code",
   "execution_count": 77,
   "id": "70c3fc73",
   "metadata": {},
   "outputs": [],
   "source": [
    "symetrie = SpacegroupAnalyzer(cif_data).get_symmetry_operations()\n",
    "\n",
    "#opérations de symétrie\n",
    "s_1 = symmops[31]\n",
    "s_2 = symmops[5]\n",
    "s_3 = symmops[47]\n",
    "\n",
    "#Coordonnées atomes\n",
    "coord_Hf = [0.0, 0.0, 0.0]\n",
    "coord_Ni = [0.25, 0.25, 0.25]\n",
    "coord_Sn = [0.5, 0.5, 0.5]\n",
    "\n",
    "#application symétrie \n",
    "Hf_sym = s_1.operate(coord_Hf);\n",
    "Ni_sym = s_2.operate(coord_Ni);\n",
    "Sn_sym = s_3.operate(coord_Sn);"
   ]
  },
  {
   "cell_type": "markdown",
   "id": "07b7164b",
   "metadata": {},
   "source": [
    "## Symétrie 1 : Plan miroir"
   ]
  },
  {
   "cell_type": "code",
   "execution_count": 78,
   "id": "74876c8c",
   "metadata": {},
   "outputs": [
    {
     "name": "stdout",
     "output_type": "stream",
     "text": [
      "L'atome de départ est le Hf et a comme coordonnées: [0.0, 0.0, 0.0]\n",
      "\n",
      "On lui applique une symétrie de plan miroir (z,y,x) :\n",
      "\n",
      "[[ 0. -1.  0.]\n",
      " [-1.  0.  0.]\n",
      " [ 0.  0.  1.]] \n",
      "\n",
      "Le vecteur de translation est :  [0.5 0.5 0. ] \n",
      "\n",
      "L'atome d'arrivé a comme coordonnées : [0.5 0.5 0. ]\n",
      "\n"
     ]
    },
    {
     "data": {
      "application/vnd.jupyter.widget-view+json": {
       "model_id": "38d967749b88464ab33536b193b3944d",
       "version_major": 2,
       "version_minor": 0
      },
      "text/plain": [
       "JsmolView(layout=Layout(align_self='stretch', height='400px'))"
      ]
     },
     "metadata": {},
     "output_type": "display_data"
    }
   ],
   "source": [
    "print(\"L'atome de départ est le Hf et a comme coordonnées: {}\\n\".format(coord_Hf))\n",
    "print(\"On lui applique une symétrie de plan miroir (z,y,x) :\\n\")\n",
    "print(s_1.rotation_matrix , \"\\n\")\n",
    "\n",
    "print(\"Le vecteur de translation est : \", s_1.translation_vector, \"\\n\")\n",
    "print(\"L'atome d'arrivé a comme coordonnées : {}\\n\".format(Hf_sym))\n",
    "\n",
    "v1 = quick_view(cif_data)\n",
    "display(v1)\n",
    "v1.script(\"draw symop 32 {atomno=1}\")"
   ]
  },
  {
   "cell_type": "markdown",
   "id": "7449ba69",
   "metadata": {},
   "source": [
    "## Symétrie 2 : Symétrie d'axe 2 ( z , -x-y-z , x )"
   ]
  },
  {
   "cell_type": "code",
   "execution_count": 79,
   "id": "c3cf1ee3",
   "metadata": {},
   "outputs": [
    {
     "name": "stdout",
     "output_type": "stream",
     "text": [
      "L'atome de départ est le Ni et a comme coordonnées: [0.25, 0.25, 0.25]\n",
      "\n",
      "On lui applique une symétrie d'axe 2 ( z, -x-y-z , x ) :\n",
      "\n",
      "[[0. 1. 0.]\n",
      " [1. 0. 0.]\n",
      " [0. 0. 1.]] \n",
      "\n",
      "Le vecteur de translation est :  [0. 0. 0.] \n",
      "\n",
      "L'atome d'arrivé a comme coordonnées : [0.25 0.25 0.25]\n",
      "\n"
     ]
    },
    {
     "data": {
      "application/vnd.jupyter.widget-view+json": {
       "model_id": "3a455b4d4d694279ab0bdc711bd461a5",
       "version_major": 2,
       "version_minor": 0
      },
      "text/plain": [
       "JsmolView(layout=Layout(align_self='stretch', height='400px'))"
      ]
     },
     "metadata": {},
     "output_type": "display_data"
    }
   ],
   "source": [
    "print(\"L'atome de départ est le Ni et a comme coordonnées: {}\\n\".format(coord_Ni))\n",
    "print(\"On lui applique une symétrie d'axe 2 ( z, -x-y-z , x ) :\\n\")\n",
    "print(s_2.rotation_matrix , \"\\n\")\n",
    "\n",
    "print(\"Le vecteur de translation est : \", s_2.translation_vector, \"\\n\")\n",
    "print(\"L'atome d'arrivé a comme coordonnées : {}\\n\".format(Ni_sym))\n",
    "\n",
    "v2 = quick_view(cif_data)\n",
    "display(v2)\n",
    "v2.script(\"draw symop 6 {atomno=7}\")"
   ]
  },
  {
   "cell_type": "markdown",
   "id": "b5fbcedd",
   "metadata": {},
   "source": [
    "## Symetrie 3 : Roto-inversion ( y , -x-y-z , x )"
   ]
  },
  {
   "cell_type": "code",
   "execution_count": 80,
   "id": "1c01d770",
   "metadata": {},
   "outputs": [
    {
     "name": "stdout",
     "output_type": "stream",
     "text": [
      "L'atome de départ est le Sn et a comme coordonnées: [0.5, 0.5, 0.5]\n",
      "\n",
      "On lui applique une roto-inversion ( y, -x-y-z , x ) :\n",
      "\n",
      "[[-1.  0.  0.]\n",
      " [ 0.  0.  1.]\n",
      " [ 0. -1.  0.]] \n",
      "\n",
      "Le vecteur de translation est :  [0.5 0.5 0. ] \n",
      "\n",
      "L'atome d'arrivé a comme coordonnées : [ 0.   1.  -0.5]\n",
      "\n"
     ]
    },
    {
     "data": {
      "application/vnd.jupyter.widget-view+json": {
       "model_id": "90efdd2dc495471b996800bc887d1bce",
       "version_major": 2,
       "version_minor": 0
      },
      "text/plain": [
       "JsmolView(layout=Layout(align_self='stretch', height='400px'))"
      ]
     },
     "metadata": {},
     "output_type": "display_data"
    }
   ],
   "source": [
    "print(\"L'atome de départ est le Sn et a comme coordonnées: {}\\n\".format(coord_Sn))\n",
    "print(\"On lui applique une roto-inversion ( y, -x-y-z , x ) :\\n\")\n",
    "print(s_3.rotation_matrix , \"\\n\")\n",
    "\n",
    "print(\"Le vecteur de translation est : \", s_3.translation_vector, \"\\n\")\n",
    "print(\"L'atome d'arrivé a comme coordonnées : {}\\n\".format(Sn_sym))\n",
    "\n",
    "v3 = quick_view(cif_data)\n",
    "v3.script(\"draw symop 48 {atomno=3}\")\n",
    "display(v3)\n"
   ]
  },
  {
   "cell_type": "code",
   "execution_count": null,
   "id": "bea182ab",
   "metadata": {},
   "outputs": [],
   "source": []
  }
 ],
 "metadata": {
  "kernelspec": {
   "display_name": "Python 3 (ipykernel)",
   "language": "python",
   "name": "python3"
  },
  "language_info": {
   "codemirror_mode": {
    "name": "ipython",
    "version": 3
   },
   "file_extension": ".py",
   "mimetype": "text/x-python",
   "name": "python",
   "nbconvert_exporter": "python",
   "pygments_lexer": "ipython3",
   "version": "3.9.13"
  }
 },
 "nbformat": 4,
 "nbformat_minor": 5
}
